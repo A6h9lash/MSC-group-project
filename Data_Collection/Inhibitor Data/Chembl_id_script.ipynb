{
 "cells": [
  {
   "cell_type": "code",
   "execution_count": 4,
   "metadata": {},
   "outputs": [],
   "source": [
    "#parse using BeautifulSoup\n",
    "from bs4 import BeautifulSoup\n",
    "import requests\n",
    "r = requests.get(\"http://www.icoa.fr/pkidb/\")\n",
    "soup = BeautifulSoup(r.text, 'html.parser')"
   ]
  },
  {
   "cell_type": "code",
   "execution_count": 5,
   "metadata": {},
   "outputs": [],
   "source": [
    "results = soup.find_all('tr')\n",
    "#print(results)\n",
    "#print(results[0])"
   ]
  },
  {
   "cell_type": "code",
   "execution_count": 70,
   "metadata": {},
   "outputs": [
    {
     "name": "stdout",
     "output_type": "stream",
     "text": [
      "<a href=\"https://www.ebi.ac.uk/chembldb/compound/inspect/CHEMBL3643413\">ChEMBL</a>\n"
     ]
    },
    {
     "data": {
      "text/plain": [
       "list"
      ]
     },
     "execution_count": 70,
     "metadata": {},
     "output_type": "execute_result"
    }
   ],
   "source": [
    "chembl = first_result.find_all('a')[1]\n",
    "print (chembl)\n",
    "type(first_result)\n",
    "type(final_results)"
   ]
  },
  {
   "cell_type": "code",
   "execution_count": 20,
   "metadata": {},
   "outputs": [],
   "source": [
    "chembl_link = []\n",
    "for i in final_results:\n",
    "    name = i.find('td').text\n",
    "    chembl = i.find_all('a')[1]\n",
    "    #print(chembl)\n",
    "    \n",
    "    chembl_link.append((name, chembl))"
   ]
  },
  {
   "cell_type": "code",
   "execution_count": 21,
   "metadata": {},
   "outputs": [
    {
     "data": {
      "text/plain": [
       "218"
      ]
     },
     "execution_count": 21,
     "metadata": {},
     "output_type": "execute_result"
    }
   ],
   "source": [
    "#print(chembl_link)\n",
    "len(chembl_link)"
   ]
  },
  {
   "cell_type": "code",
   "execution_count": 22,
   "metadata": {},
   "outputs": [],
   "source": [
    "import pandas as pd\n",
    "chembl_id = pd.DataFrame(chembl_link, columns=['name', 'chembl'])\n",
    "#df = df.set_index('name')\n",
    "#chembl_id"
   ]
  },
  {
   "cell_type": "code",
   "execution_count": 23,
   "metadata": {},
   "outputs": [],
   "source": [
    "import re\n",
    "chembl_id = str(chembl_link)\n",
    "chembl_regex = re.search(r\"(CHEMBL\\d+)\",chembl_id)\n",
    "#chembl_regex.group(0)"
   ]
  },
  {
   "cell_type": "code",
   "execution_count": 31,
   "metadata": {},
   "outputs": [
    {
     "name": "stdout",
     "output_type": "stream",
     "text": [
      "197\n"
     ]
    },
    {
     "data": {
      "text/plain": [
       "[(u'Leniolisib', 'CHEMBL3643413'),\n",
       " (u'Nemiralisib', 'CHEMBL2216859'),\n",
       " (u'Oclacitinib', 'CHEMBL2103874'),\n",
       " (u'Toceranib', 'CHEMBL13608'),\n",
       " (u'Dezapelisib', 'CHEMBL2216863'),\n",
       " (u'Mavelertinib', 'CHEMBL3989970'),\n",
       " (u'Selatinib', 'CHEMBL3040548'),\n",
       " (u'Rivoceranib', 'CHEMBL3545414'),\n",
       " (u'Recilisib', 'CHEMBL2219421'),\n",
       " (u'Altiratinib', 'CHEMBL3545365'),\n",
       " (u'Balamapimod', 'CHEMBL2104954'),\n",
       " (u'Allitinib', 'CHEMBL1947204'),\n",
       " (u'Ravoxertinib', 'CHEMBL3544964'),\n",
       " (u'Pexmetinib', 'CHEMBL3991932'),\n",
       " (u'Henatinib', 'CHEMBL1277072'),\n",
       " (u'Cenisertib', 'CHEMBL1614709'),\n",
       " (u'Mubritinib', 'CHEMBL1614707'),\n",
       " (u'Tafetinib', 'CHEMBL2180602'),\n",
       " (u'Omipalisib', 'CHEMBL1236962'),\n",
       " (u'Vactosertib', 'CHEMBL3260567'),\n",
       " (u'Ningetinib', 'CHEMBL3984441'),\n",
       " (u'Voruciclib', 'CHEMBL3905910'),\n",
       " (u'Tomivosertib', 'CHEMBL4073443'),\n",
       " (u'Ulixertinib', 'CHEMBL3590106'),\n",
       " (u'Uprosertib', 'CHEMBL3137336'),\n",
       " (u'Vistusertib', 'CHEMBL2336325'),\n",
       " (u'Selonsertib', 'CHEMBL3916717'),\n",
       " (u'Pamapimod', 'CHEMBL1090089'),\n",
       " (u'Berzosertib', 'CHEMBL3989870'),\n",
       " (u'Dilmapimod', 'CHEMBL2103838'),\n",
       " (u'Spebrutinib', 'CHEMBL3301625'),\n",
       " (u'Riviciclib', 'CHEMBL3969723'),\n",
       " (u'Neflamapimod', 'CHEMBL119385'),\n",
       " (u'Gandotinib', 'CHEMBL2107823'),\n",
       " (u'Apitolisib', 'CHEMBL1922094'),\n",
       " (u'Rabusertib', 'CHEMBL3039517'),\n",
       " (u'Dactolisib', 'CHEMBL1879463'),\n",
       " (u'Pictilisib', 'CHEMBL521851'),\n",
       " (u'Bimiralisib', 'CHEMBL4084907'),\n",
       " (u'Foretinib', 'CHEMBL1230609'),\n",
       " (u'Afuresertib', 'CHEMBL2219422'),\n",
       " (u'Lucitanib', 'CHEMBL2220486'),\n",
       " (u'Adavosertib', 'CHEMBL1976040'),\n",
       " (u'Defactinib', 'CHEMBL3137331'),\n",
       " (u'Bafetinib', 'CHEMBL206834'),\n",
       " (u'Merestinib', 'CHEMBL3545307'),\n",
       " (u'Entospletinib', 'CHEMBL3265032'),\n",
       " (u'Galunisertib', 'CHEMBL2364611'),\n",
       " (u'Ilorasertib', 'CHEMBL1980297'),\n",
       " (u'Amcasertib', 'CHEMBL3707349'),\n",
       " (u'Amuvatinib', 'CHEMBL2103851'),\n",
       " (u'Evobrutinib', 'CHEMBL4072833'),\n",
       " (u'Glesatinib', 'CHEMBL3989914'),\n",
       " (u'Bemcentinib', 'CHEMBL3809489'),\n",
       " (u'Gedatolisib', 'CHEMBL592445'),\n",
       " (u'Capivasertib', 'CHEMBL2325741'),\n",
       " (u'Telatinib', 'CHEMBL2079588'),\n",
       " (u'Pilaralisib', 'CHEMBL3360203'),\n",
       " (u'Bentamapimod', 'CHEMBL3545213'),\n",
       " (u'Ralimetinib', 'CHEMBL2364626'),\n",
       " (u'Rebastinib', 'CHEMBL1738757'),\n",
       " (u'Refametinib', 'CHEMBL1236682'),\n",
       " (u'Tepotinib', 'CHEMBL3402762'),\n",
       " (u'Ripasudil', 'CHEMBL3426621'),\n",
       " (u'Rogaratinib', 'CHEMBL3963485'),\n",
       " (u'Seliciclib', 'CHEMBL14762'),\n",
       " (u'Tandutinib', 'CHEMBL124660'),\n",
       " (u'Sotrastaurin', 'CHEMBL565612'),\n",
       " (u'Sapanisertib', 'CHEMBL3545097'),\n",
       " (u'Milciclib', 'CHEMBL564829'),\n",
       " (u'Infigratinib', 'CHEMBL1852688'),\n",
       " (u'Trilaciclib', 'CHEMBL3894860'),\n",
       " (u'Prexasertib', 'CHEMBL3544911'),\n",
       " (u'Poziotinib', 'CHEMBL3545154'),\n",
       " (u'Golvatinib', 'CHEMBL3039525'),\n",
       " (u'Pimasertib', 'CHEMBL2107832'),\n",
       " (u'Sapitinib', 'CHEMBL2408045'),\n",
       " (u'Tozasertib', 'CHEMBL572878'),\n",
       " (u'Silmitasertib', 'CHEMBL1230165'),\n",
       " (u'Tanzisertib', 'CHEMBL1950289'),\n",
       " (u'Voxtalisib', 'CHEMBL3545366'),\n",
       " (u'Danusertib', 'CHEMBL402548'),\n",
       " (u'Verosudil', 'CHEMBL3545065'),\n",
       " (u'Solcitinib', 'CHEMBL3301606'),\n",
       " (u'Talmapimod', 'CHEMBL514201'),\n",
       " (u'Tesevatinib', 'CHEMBL3544983'),\n",
       " (u'Olmutinib', 'CHEMBL3786343'),\n",
       " (u'Pelitinib', 'CHEMBL607707'),\n",
       " (u'Sonolisib', 'CHEMBL411907'),\n",
       " (u'Decernotinib', 'CHEMBL3039513'),\n",
       " (u'Doramapimod', 'CHEMBL103667'),\n",
       " (u'Tucatinib', 'CHEMBL3989868'),\n",
       " (u'Tamatinib', 'CHEMBL475251'),\n",
       " (u'Varlitinib', 'CHEMBL2103842'),\n",
       " (u'Cerdulatinib', 'CHEMBL4116008'),\n",
       " (u'Flumatinib', 'CHEMBL3545413'),\n",
       " (u'Linifanib', 'CHEMBL223360'),\n",
       " (u'Linsitinib', 'CHEMBL1091644'),\n",
       " (u'Pacritinib', 'CHEMBL2035187'),\n",
       " (u'Ipatasertib', 'CHEMBL2177390'),\n",
       " (u'Filgotinib', 'CHEMBL3301607'),\n",
       " (u'Losmapimod', 'CHEMBL1088752'),\n",
       " (u'Nazartinib', 'CHEMBL3787344'),\n",
       " (u'Naquotinib', 'CHEMBL3663929'),\n",
       " (u'Motesanib', 'CHEMBL572881'),\n",
       " (u'Momelotinib', 'CHEMBL1078178'),\n",
       " (u'Orantinib', 'CHEMBL274654'),\n",
       " (u'Alvocidib', 'CHEMBL428690'),\n",
       " (u'Itacitinib', 'CHEMBL3622820'),\n",
       " (u'Pyrotinib', 'CHEMBL3647420'),\n",
       " (u'Capmatinib', 'CHEMBL3188267'),\n",
       " (u'Selumetinib', 'CHEMBL1614701'),\n",
       " (u'Savolitinib', 'CHEMBL3334567'),\n",
       " (u'Saracatinib', 'CHEMBL217092'),\n",
       " (u'Ruboxistaurin', 'CHEMBL91829'),\n",
       " (u'Semaxanib', 'CHEMBL276711'),\n",
       " (u'Rigosertib', 'CHEMBL1241855'),\n",
       " (u'Quizartinib', 'CHEMBL576982'),\n",
       " (u'Famitinib', 'CHEMBL1278146'),\n",
       " (u'Lestaurtinib', 'CHEMBL603469'),\n",
       " (u'Rociletinib', 'CHEMBL3545308'),\n",
       " (u'Simotinib', 'CHEMBL3545235'),\n",
       " (u'Alisertib', 'CHEMBL483158'),\n",
       " (u'Cediranib', 'CHEMBL491473'),\n",
       " (u'Buparlisib', 'CHEMBL2017974'),\n",
       " (u'Tivantinib', 'CHEMBL2103882'),\n",
       " (u'Brivanib', 'CHEMBL377300'),\n",
       " (u'Barasertib', 'CHEMBL415049'),\n",
       " (u'Dovitinib', 'CHEMBL522892'),\n",
       " (u'Volasertib', 'CHEMBL1233528'),\n",
       " (u'Ensartinib', 'CHEMBL4113131'),\n",
       " (u'Dinaciclib', 'CHEMBL2103840'),\n",
       " (u'Taselisib', 'CHEMBL2387080'),\n",
       " (u'Vatalanib', 'CHEMBL101253'),\n",
       " (u'Canertinib', 'CHEMBL31965'),\n",
       " (u'Masitinib', 'CHEMBL1908391'),\n",
       " (u'Enzastaurin', 'CHEMBL300138'),\n",
       " (u'Umbralisib', 'CHEMBL3948730'),\n",
       " (u'Crenolanib', 'CHEMBL2105728'),\n",
       " (u'Sitravatinib', 'CHEMBL3989926'),\n",
       " (u'Crizotinib', 'CHEMBL601719'),\n",
       " (u'Copanlisib', 'CHEMBL3218576'),\n",
       " (u'Cobimetinib', 'CHEMBL2146883'),\n",
       " (u'Gefitinib', 'CHEMBL939'),\n",
       " (u'Ibrutinib', 'CHEMBL1873475'),\n",
       " (u'Cabozantinib', 'CHEMBL2105717'),\n",
       " (u'Pazopanib', 'CHEMBL477772'),\n",
       " (u'Neratinib', 'CHEMBL180022'),\n",
       " (u'Nilotinib', 'CHEMBL255863'),\n",
       " (u'Dabrafenib', 'CHEMBL2028663'),\n",
       " (u'Dasatinib', 'CHEMBL1421'),\n",
       " (u'Trametinib', 'CHEMBL2103875'),\n",
       " (u'Ruxolitinib', 'CHEMBL1789941'),\n",
       " (u'Vandetanib', 'CHEMBL24828'),\n",
       " (u'Erlotinib', 'CHEMBL553'),\n",
       " (u'Pexidartinib', 'CHEMBL3813873'),\n",
       " (u'Tofacitinib', 'CHEMBL221959'),\n",
       " (u'Nintedanib', 'CHEMBL502835'),\n",
       " (u'Tivozanib', 'CHEMBL1289494'),\n",
       " (u'Larotrectinib', 'CHEMBL3889654'),\n",
       " (u'Fasudil', 'CHEMBL38380'),\n",
       " (u'Entrectinib', 'CHEMBL1983268'),\n",
       " (u'Sunitinib', 'CHEMBL535'),\n",
       " (u'Sorafenib', 'CHEMBL1336'),\n",
       " (u'Abemaciclib', 'CHEMBL3301610'),\n",
       " (u'Vemurafenib', 'CHEMBL1229517'),\n",
       " (u'Osimertinib', 'CHEMBL3353410'),\n",
       " (u'Alpelisib', 'CHEMBL2396661'),\n",
       " (u'Lenvatinib', 'CHEMBL1289601'),\n",
       " (u'Erdafitinib', 'CHEMBL3545376'),\n",
       " (u'Lorlatinib', 'CHEMBL3286830'),\n",
       " (u'Upadacitinib', 'CHEMBL3622821'),\n",
       " (u'Fedratinib', 'CHEMBL1287853'),\n",
       " (u'Dacomitinib', 'CHEMBL2110732'),\n",
       " (u'Binimetinib', 'CHEMBL3187723'),\n",
       " (u'Encorafenib', 'CHEMBL3301612'),\n",
       " (u'Zanubrutinib', 'CHEMBL3973435'),\n",
       " (u'Duvelisib', 'CHEMBL3039502'),\n",
       " (u'Gilteritinib', 'CHEMBL3301622'),\n",
       " (u'Fostamatinib', 'CHEMBL2103830'),\n",
       " (u'Bosutinib', 'CHEMBL288441'),\n",
       " (u'Alectinib', 'CHEMBL1738797'),\n",
       " (u'Palbociclib', 'CHEMBL189963'),\n",
       " (u'Afatinib', 'CHEMBL1173655'),\n",
       " (u'Acalabrutinib', 'CHEMBL3707348'),\n",
       " (u'Baricitinib', 'CHEMBL2105759'),\n",
       " (u'Axitinib', 'CHEMBL1289926'),\n",
       " (u'Brigatinib', 'CHEMBL3545311'),\n",
       " (u'Ceritinib', 'CHEMBL2403108'),\n",
       " (u'Regorafenib', 'CHEMBL1946170'),\n",
       " (u'Icotinib', 'CHEMBL2087361'),\n",
       " (u'Idelalisib', 'CHEMBL2216870'),\n",
       " (u'Imatinib', 'CHEMBL941'),\n",
       " (u'Ponatinib', 'CHEMBL1171837'),\n",
       " (u'Lapatinib', 'CHEMBL554'),\n",
       " (u'Ribociclib', 'CHEMBL3545110'),\n",
       " (u'Midostaurin', 'CHEMBL608533')]"
      ]
     },
     "execution_count": 31,
     "metadata": {},
     "output_type": "execute_result"
    }
   ],
   "source": [
    "chembl_new = []\n",
    "for i in final_results:\n",
    "    name = i.find('td').text\n",
    "    chembl = i.find_all('a')[1]\n",
    "    chembl = str(chembl)\n",
    "    chembl_regex = re.search(r\"(CHEMBL\\d+)\",chembl)\n",
    "    if chembl_regex is not None:\n",
    "        chembl_regex = chembl_regex.group(0)\n",
    "    else:\n",
    "        continue\n",
    "        \n",
    "    chembl_new.append((name, chembl_regex))\n",
    "print len(chembl_new)"
   ]
  },
  {
   "cell_type": "code",
   "execution_count": 38,
   "metadata": {},
   "outputs": [],
   "source": [
    "chembl_id = pd.DataFrame(chembl_new, columns=['INN_Name', 'ChEMBL_ID'])\n",
    "chembl_id = chembl_id.set_index(\"INN_Name\")\n",
    "#chembl_id.to_csv(\"ChEMBL_ID.csv\")"
   ]
  },
  {
   "cell_type": "code",
   "execution_count": null,
   "metadata": {},
   "outputs": [],
   "source": []
  }
 ],
 "metadata": {
  "kernelspec": {
   "display_name": "Python 3",
   "language": "python",
   "name": "python3"
  },
  "language_info": {
   "codemirror_mode": {
    "name": "ipython",
    "version": 2
   },
   "file_extension": ".py",
   "mimetype": "text/x-python",
   "name": "python",
   "nbconvert_exporter": "python",
   "pygments_lexer": "ipython2",
   "version": "2.7.16"
  }
 },
 "nbformat": 4,
 "nbformat_minor": 2
}
