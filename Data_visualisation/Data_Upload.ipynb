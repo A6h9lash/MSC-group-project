{
 "cells": [
  {
   "cell_type": "code",
   "execution_count": null,
   "metadata": {},
   "outputs": [],
   "source": [
    "import pandas as pd\n",
    "import re\n",
    "import numpy as np #use this to log transform data\n",
    "import requests\n",
    "import sqlite3"
   ]
  },
  {
   "cell_type": "code",
   "execution_count": null,
   "metadata": {},
   "outputs": [],
   "source": [
    "def open_tsv(filename):\n",
    "    assert filename.endswith('.tsv')\n",
    "    df = pd.read_csv(filename, na_values='inf', sep='\\t')\n",
    "\n",
    "    if len(df.columns) > 7:\n",
    "        df = pd.read_csv(filename, usecols=list(range(0, 7)), na_values='inf', sep='\\t',header=0, index_col=False)\n",
    "        df.columns=['Substrate','Control_mean','Inhibitor_mean','Fold_change','p_value','ctrlCV','treatCV']\n",
    "        return df\n",
    "    elif len(df.columns) < 7:\n",
    "        df = pd.read_csv(filename, na_values='inf', sep='\\t')\n",
    "        df.columns = [\"Substrate\", \"Control_mean\", \"Inhibitor_mean\", \"Fold_change\", \"p_value\"]\n",
    "        return df\n",
    "    else: #len(df.columns)== 7\n",
    "        df = pd.read_csv(filename, na_values='inf', sep='\\t')\n",
    "        df.columns=['Substrate','Control_mean','Inhibitor_mean','Fold_change','p_value','ctrlCV','treatCV']\n",
    "        return df"
   ]
  },
  {
   "cell_type": "code",
   "execution_count": null,
   "metadata": {},
   "outputs": [],
   "source": [
    "def initial_data_filter(df):\n",
    "    if len(df.columns)== 7:\n",
    "        df=df.fillna({'ctrlCV':0, 'treatCV':0}) #replace NaN in variance columns with 0\n",
    "        df=df.dropna(axis='index', how='any')\n",
    "        df=df[~df.Substrate.str.contains(\"None\")]\n",
    "        M= r\"\\([M]\\d+\\)\" #matches M in brackets with one or more digits\n",
    "        df=df[~df.Substrate.str.contains(M)] #drops rows with M residue\n",
    "        phos=df.Substrate.str.findall(r\"\\((.\\d+)\").apply(','.join, 1)\n",
    "        df.insert(1, \"Phosphosite\", phos, True) #inserts phosphosite data as the second column\n",
    "        df[[\"Substrate\"]]=df.Substrate.str.extract(r\"(.+)\\(\")\n",
    "        return df\n",
    "    else:\n",
    "        df=df.dropna(axis='index', how='any')\n",
    "        df=df[~df.Substrate.str.contains(\"None\")]\n",
    "        M= r\"\\([M]\\d+\\)\" #matches M in brackets with one or more digits\n",
    "        df=df[~df.Substrate.str.contains(M)] #drops rows with M residue\n",
    "        phos=df.Substrate.str.findall(r\"\\((.\\d+)\").apply(','.join, 1)\n",
    "        df.insert(1, \"Phosphosite\", phos, True) #inserts phosphosite data as the second column\n",
    "        df[[\"Substrate\"]]=df.Substrate.str.extract(r\"(.+)\\(\")\n",
    "        return df"
   ]
  },
  {
   "cell_type": "code",
   "execution_count": null,
   "metadata": {},
   "outputs": [],
   "source": [
    "def find_sub_gene(entry):\n",
    "    if re.match(r\".+_HUMAN\", entry):\n",
    "        URL = 'http://www.uniprot.org/uniprot/?query==mnemonic:'+entry+'&columns=genes(PREFERRED)&format=tab'\n",
    "        r = requests.get(URL)\n",
    "        content = r.text.splitlines()\n",
    "        gene_name=content[1:2]        \n",
    "        return str(gene_name)  #returns gene as a string \n",
    "    else:\n",
    "        return entry           #if entry doesn't match regex, return the entry (gene name)"
   ]
  },
  {
   "cell_type": "code",
   "execution_count": null,
   "metadata": {},
   "outputs": [],
   "source": [
    "def convert_to_gene(df):\n",
    "    df.Substrate=df.apply(lambda row: find_sub_gene(row[\"Substrate\"]), axis=1)\n",
    "    df.Substrate=df.Substrate.str.strip(\"[]\").str.strip(\"''\") #remove [] and ''\n",
    "    df.Substrate.replace(\"\", np.nan, inplace=True)\n",
    "    df.dropna(subset=[\"Substrate\"], inplace=True)\n",
    "    return df"
   ]
  },
  {
   "cell_type": "code",
   "execution_count": null,
   "metadata": {},
   "outputs": [],
   "source": [
    "def find_kinase(df):\n",
    "    #Find Kin_Gene_Name from Substrate_Gene_Name and Substrate_Modified_Residue\n",
    "    conn = sqlite3.connect(\"11.db\") #connect to our database\n",
    "    phosdf=pd.read_sql_query('SELECT Kin_Gene_Name, Substrate_Gene_Name, Substrate_Modified_Residue FROM PhosphoSites', conn) \n",
    "    df1= df.join(phosdf.set_index(['Substrate_Gene_Name', 'Substrate_Modified_Residue']), on =['Substrate', 'Phosphosite'])\n",
    "    #join database dataframe with file dataframe where substrate gene name and modified residue are the index\n",
    "    df1= df1.rename(columns={'Kin_Gene_Name': 'Kinase'})\n",
    "    volplot_table=df1.to_csv('volplot_table.csv')\n",
    "    return df1 #returns dataframe with Kinases (NaN results included)\n",
    "    return volplot_table #returns dataframe as csv"
   ]
  },
  {
   "cell_type": "code",
   "execution_count": null,
   "metadata": {},
   "outputs": [],
   "source": [
    "def relative_kinase_activity(df1):\n",
    "    #Find relative kinase activity\n",
    "    kinase_sum= df1.groupby(\"Kinase\").Control_mean.sum() #sum of each kinase\n",
    "    total_sum=df1.Control_mean.sum() #total sum of kinases in the file\n",
    "    Relative_Kinase_Activity=kinase_sum/total_sum\n",
    "    #Relative kinase activity of inhibitor\n",
    "    inhib_sum= df1.groupby(\"Kinase\").Inhibitor_mean.sum() #sum of means for inhibitor data\n",
    "    inhib_total=df1.Inhibitor_mean.sum()\n",
    "    inhib_activity=inhib_sum/inhib_total\n",
    "    kinasedf=pd.DataFrame({\"Control_Mean\":kinase_sum, \"Relative_Kinase_Activity\":Relative_Kinase_Activity, \n",
    "                       \"Relative_Inhibited_Kinase_Activity\":inhib_activity, \"Inhibitor_Mean\":inhib_sum})\n",
    "    kinasedf = kinasedf.reset_index()\n",
    "    kinasedf=kinasedf.sort_values(by='Relative_Kinase_Activity', ascending=False) #sort data by descending control mean value\n",
    "    barplot_table=kinasedf.to_csv('barplot_table.csv')\n",
    "    return kinasedf #returns sorted dataframe\n",
    "    return barplot_table #returns sorted dataframe as csv"
   ]
  },
  {
   "cell_type": "code",
   "execution_count": null,
   "metadata": {},
   "outputs": [],
   "source": [
    "def rka_barchart(kinasedf):\n",
    "    #Bar graph of Relative Kinase Activity\n",
    "    kinase_name=kinasedf.Kinase[0:25] #Top 25 Kinases\n",
    "    src=ColumnDataSource(kinasedf)\n",
    "    hover=HoverTool(tooltips=[('Kinase','@Kinase'), ('Relative Kinase Activity', '@Relative_Kinase_Activity'),\n",
    "                          ('Relative Inhibited Kinase Activity','@Relative_Inhibited_Kinase_Activity')])\n",
    "    plot1=figure(y_range=kinase_name, plot_height=1800)\n",
    "    plot1.title.text=\"Relative Kinase Activity of the Top 25 Identified Kinases\"\n",
    "    plot1.title.text_font_size = \"20px\"\n",
    "    plot1.xaxis.axis_label =\"Relative Kinase Activity\"\n",
    "    plot1.x_range.start = 0\n",
    "    plot1.yaxis.axis_label=\"Kinase\"\n",
    "    plot1.hbar(y=dodge('Kinase',-0.25, range=plot1.y_range), right='Relative_Kinase_Activity', height=0.45, source=src, color='#2F4F4F', legend='Relative Kinase Activity')\n",
    "    plot1.hbar(y=dodge('Kinase',0.25, range=plot1.y_range), right='Relative_Inhibited_Kinase_Activity', height=0.45, source=src, color=\"#e84d60\", legend='Relative Inhibited Kinase Activity')\n",
    "    plot1.add_tools(hover)\n",
    "    return plot1"
   ]
  },
  {
   "cell_type": "code",
   "execution_count": null,
   "metadata": {},
   "outputs": [],
   "source": [
    "def volplot_1(df1):\n",
    "    #Data for volcano plot:\n",
    "    df1 = df1[df1.Fold_change != 0] #remove rows where fold change is 0\n",
    "    df1[\"Log_Fold_change\"]=np.log2(df1[\"Fold_change\"])\n",
    "    df1[\"Log_p_value\"]=-np.log10(df1[\"p_value\"])\n",
    "    #Volcano plot 1:\n",
    "    source=ColumnDataSource(df1)\n",
    "    vol_hover=HoverTool(tooltips=[('Kinase','@Kinase'), ('Substrate', '@Substrate'),\n",
    "                             ('Modified Residue','@Phosphosite'), ('Fold Change','@Fold_change'), ('p-value', '@p_value')])\n",
    "    p = figure(plot_width=700, plot_height=500)\n",
    "    p.title.text=\"Volcano Plot of the Log Fold Change and Log p-value for All Kinases\"\n",
    "    p.title.text_font_size = \"20px\"\n",
    "    p.xaxis.axis_label =\"Log Fold Change\"\n",
    "    p.yaxis.axis_label =\"-Log p-value\"\n",
    "    p.scatter(x='Log_Fold_change', y='Log_p_value', source=source)\n",
    "    p.add_tools(vol_hover)\n",
    "    #Significance thresholds:\n",
    "    sig5=Span(location=1.3, dimension='width', line_color='#800000', line_width=1.75, line_dash='dashed') #5%\n",
    "    sig1=Span(location=2, dimension='width', line_color='#2F4F4F', line_width=1.75, line_dash='dashed') #1%\n",
    "    toggle1=Toggle(label='1% Significance', button_type=\"success\", active=True)\n",
    "    toggle1.js_link('active', sig1, 'visible')\n",
    "    toggle2=Toggle(label='5% Significance', button_type=\"success\", active=True)\n",
    "    toggle2.js_link('active', sig5, 'visible')\n",
    "    p.add_layout(sig1) #adds horizontal line where points below line are non-sig fold changes(-log(0.05)=1.3)\n",
    "    p.add_layout(sig5)\n",
    "    plot2=layout([p], [toggle1, toggle2])\n",
    "    return plot2"
   ]
  },
  {
   "cell_type": "code",
   "execution_count": null,
   "metadata": {},
   "outputs": [],
   "source": [
    "def volplot_2(df1):\n",
    "    #Data for volcano plot 2:\n",
    "    df2=df1.copy()\n",
    "    df2=df2.dropna(how='any')\n",
    "    #Volcano plot 2:\n",
    "    source=ColumnDataSource(df2)\n",
    "    vol_hover=HoverTool(tooltips=[('Kinase','@Kinase'), ('Substrate', '@Substrate'),\n",
    "                                 ('Modified Residue','@Phosphosite'), ('Fold Change','@Fold_change'), ('p-value', '@p_value')])\n",
    "    p2 = figure(plot_width=700, plot_height=500)\n",
    "    p2.title.text=\"Volcano Plot of the Log Fold Change and Log p-value for All Identified Kinases\"\n",
    "    p2.title.text_font_size = \"15px\"\n",
    "    p2.xaxis.axis_label =\"Log Fold Change\"\n",
    "    p2.yaxis.axis_label =\"-Log p-value\"\n",
    "    p2.scatter(x='Log_Fold_change', y='Log_p_value', source=source)\n",
    "    p2.add_tools(vol_hover)\n",
    "    #Significance thresholds:\n",
    "    sig5=Span(location=1.3, dimension='width', line_color='#800000', line_width=1.75, line_dash='dashed') #5%\n",
    "    sig1=Span(location=2, dimension='width', line_color='#2F4F4F', line_width=1.75, line_dash='dashed') #1%\n",
    "    toggle1=Toggle(label='1% Significance', button_type=\"success\", active=True)\n",
    "    toggle1.js_link('active', sig1, 'visible')\n",
    "    toggle2=Toggle(label='5% Significance', button_type=\"success\", active=True)\n",
    "    toggle2.js_link('active', sig5, 'visible')\n",
    "    p2.add_layout(sig1) #adds horizontal line where points below line are non-sig fold changes(-log(0.05)=1.3)\n",
    "    p2.add_layout(sig5)\n",
    "    plot3=layout([p2], [toggle1, toggle2])\n",
    "    return plot3"
   ]
  }
 ],
 "metadata": {
  "kernelspec": {
   "display_name": "Python 2",
   "language": "python",
   "name": "python2"
  },
  "language_info": {
   "codemirror_mode": {
    "name": "ipython",
    "version": 2
   },
   "file_extension": ".py",
   "mimetype": "text/x-python",
   "name": "python",
   "nbconvert_exporter": "python",
   "pygments_lexer": "ipython2",
   "version": "2.7.16"
  }
 },
 "nbformat": 4,
 "nbformat_minor": 4
}
