{
 "cells": [
  {
   "cell_type": "code",
   "execution_count": 1,
   "metadata": {},
   "outputs": [
    {
     "name": "stdout",
     "output_type": "stream",
     "text": [
      "[('ACTR2', 'ACVR2A', 'Activin receptor type-2A', 'TKL', 'STKR', 'STKR2', 'P27037'), ('ACTR2B', 'ACVR2B', 'Activin receptor type-2B', 'TKL', 'STKR', 'STKR2', 'Q13705')]\n"
     ]
    }
   ],
   "source": [
    "#import sqlite package already part of Python 3 library\n",
    "import sqlite3\n",
    "\n",
    "#Create a connection object to represent our database. From this a database file will be generated.\n",
    "conn = sqlite3.connect('Test_Database_1.db')\n",
    "\n",
    "#Create a cursor to allow us to create SQL commands using execute command.\n",
    "c = conn.cursor()\n",
    "\n",
    "#Creates a table in our database using execute command. This is just a test for our Kinase table with some test columns I've used for the test data. You also need to specify what sort of data it is (Null, Integer, Real, Text or Blob). The types appear to differ between SQLite and normal SQL so need to look into the equivalents in SQLAlchemy.\n",
    "#c.execute(\"CREATE TABLE Kinase (Kinase_Gene text, HGNC_Name text, Protein_Name text, Kinase_Group text, Kinase_Family text, Kinase_Subfamily text, UniProtID text);\") # use your column names\n",
    "\n",
    "#The commanded needed in order for us to manually input data entries into our database. Need to figure out a way to import data directly from a file. \n",
    "#c.execute(\"INSERT INTO Kinase VALUES ('ADCK4', 'ADCK4', 'Uncharacterized aarF domain-containing protein kinase 4', 'Atypical', 'ABC1', 'ABC1-A', 'Q96D53')\")\n",
    "\n",
    "#Commits any commands made prior to the database file.\n",
    "conn.commit()\n",
    "\n",
    "#Query to select data from our table where a column is equal to a specified value.\n",
    "c.execute(\"SELECT * from Kinase WHERE Kinase_Group ='TKL'\")\n",
    "\n",
    "#Gives data that fulfills the query.\n",
    "print(c.fetchall())\n",
    "\n",
    "#Multiple way to fetch query result i.e. one set of data, many sets of data or all of them.\n",
    "#c.fetchone()\n",
    "#c.fetchmany()\n",
    "#c.fetchall()\n",
    "\n",
    "conn.commit()\n",
    "\n",
    "#Lastly you need to close the connection when all is done.\n",
    "conn.close()"
   ]
  },
  {
   "cell_type": "code",
   "execution_count": null,
   "metadata": {},
   "outputs": [],
   "source": []
  }
 ],
 "metadata": {
  "kernelspec": {
   "display_name": "Python 3",
   "language": "python",
   "name": "python3"
  },
  "language_info": {
   "codemirror_mode": {
    "name": "ipython",
    "version": 3
   },
   "file_extension": ".py",
   "mimetype": "text/x-python",
   "name": "python",
   "nbconvert_exporter": "python",
   "pygments_lexer": "ipython3",
   "version": "3.7.4"
  }
 },
 "nbformat": 4,
 "nbformat_minor": 2
}
