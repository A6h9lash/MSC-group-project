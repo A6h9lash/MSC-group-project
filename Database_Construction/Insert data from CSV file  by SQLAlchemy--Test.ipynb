{
 "cells": [
  {
   "cell_type": "code",
   "execution_count": 8,
   "metadata": {},
   "outputs": [
    {
     "name": "stdout",
     "output_type": "stream",
     "text": [
      "Requirement already satisfied: flask-sqlalchemy in c:\\users\\12078\\anaconda3\\lib\\site-packages (2.4.1)\n",
      "Requirement already satisfied: Flask>=0.10 in c:\\users\\12078\\anaconda3\\lib\\site-packages (from flask-sqlalchemy) (1.1.1)\n",
      "Requirement already satisfied: SQLAlchemy>=0.8.0 in c:\\users\\12078\\anaconda3\\lib\\site-packages (from flask-sqlalchemy) (1.3.9)\n",
      "Requirement already satisfied: click>=5.1 in c:\\users\\12078\\anaconda3\\lib\\site-packages (from Flask>=0.10->flask-sqlalchemy) (7.0)\n",
      "Requirement already satisfied: itsdangerous>=0.24 in c:\\users\\12078\\anaconda3\\lib\\site-packages (from Flask>=0.10->flask-sqlalchemy) (1.1.0)\n",
      "Requirement already satisfied: Werkzeug>=0.15 in c:\\users\\12078\\anaconda3\\lib\\site-packages (from Flask>=0.10->flask-sqlalchemy) (0.16.0)\n",
      "Requirement already satisfied: Jinja2>=2.10.1 in c:\\users\\12078\\anaconda3\\lib\\site-packages (from Flask>=0.10->flask-sqlalchemy) (2.10.3)\n",
      "Requirement already satisfied: MarkupSafe>=0.23 in c:\\users\\12078\\anaconda3\\lib\\site-packages (from Jinja2>=2.10.1->Flask>=0.10->flask-sqlalchemy) (1.1.1)\n"
     ]
    }
   ],
   "source": [
    "!pip3 install flask-sqlalchemy"
   ]
  },
  {
   "cell_type": "code",
   "execution_count": 9,
   "metadata": {},
   "outputs": [],
   "source": [
    "import pandas as pd\n",
    "from sqlalchemy import create_engine\n",
    "from sqlalchemy.orm import sessionmaker\n",
    "from sqlalchemy.ext.declarative import declarative_base\n",
    "from sqlalchemy import Table,Column,String\n",
    "import glob\n",
    "import os\n",
    "from sqlalchemy import MetaData\n",
    "from sqlalchemy.orm import mapper\n",
    "\n",
    "#SQL Alchemy setup\n",
    "\n",
    "#Create engine that will allow us to communicate with database\n",
    "engine=create_engine('sqlite:///kinase1.sqlite',echo=False)\n",
    "\n",
    "#Creating session which is the middle ground to talk to our engine\n",
    "Session=sessionmaker(bind=engine)\n",
    "session=Session()\n",
    "\n",
    "#Map which table in database will be related to each class\n",
    "Base=declarative_base()\n",
    "\n",
    "#Create a metadata instance\n",
    "#A metadata is an object container that will store attributes and name of table \n",
    "metadata=MetaData(engine)\n",
    "\n",
    "#Define structure of table\n",
    "class kinase_table(object):\n",
    "    def __init__(self,description,ref_des):\n",
    "        self.Gene=Gene\n",
    "        self.Group=Group\n",
    "        self.Family=Family\n",
    "        self.Subfamily=Subfamily\n",
    "        self.Alias=Alias\n",
    "        self.Uniprot_ID=Uniprot_ID\n",
    "        self.Uniprot_Code=Uniprot_Code\n",
    "        self.Protein_Name=Protein_Name\n",
    "        self.Gene_Name=Gene_Name\n",
    "        self.Cellular_Location=Cellular_Location\n",
    "    \n",
    "    def __repr__(self):\n",
    "        return f'{self.Gene,self.Group,self.Family,self.Subfamily,self.Alias,self.Uniprot_ID,self.Uniprot_Code,self.Protein_Name,self.Gene_Name,self.Cellular_Location}'\n"
   ]
  },
  {
   "cell_type": "code",
   "execution_count": 20,
   "metadata": {},
   "outputs": [],
   "source": [
    "#Declaring a table\n",
    "\n",
    "#Defining a function that defines table, we define this function so that we can keep table names dynamic\n",
    "#That is, we can have multiple tables in database and each table can have a different name\n",
    "def table_definition(table_name):\n",
    "    #Define table structure, here table_name varies\n",
    "    #We want to make table_define available outside function so we declare it as a function attribute\n",
    "    table_definition.table_define=Table(table_name,metadata,\n",
    "    Column('Gene',String,),\n",
    "    Column('Group',String),\n",
    "    Column('Family',String),\n",
    "    Column('Subfamily',String),\n",
    "    Column('Alias',String),\n",
    "    Column('Uniprot_ID',String,primary_key=True),\n",
    "    Column('Uniprot_Code',String),\n",
    "    Column('Protein_Name',String),\n",
    "    Column('Gene_Name',String),\n",
    "    Column('Cellular_Location',String)                                    \n",
    "    )\n",
    "    \n",
    "    #Create table\n",
    "    #Note that we used the engine from function\n",
    "    metadata.create_all(engine)\n",
    "    \n",
    "    #Use mapper to define components of class as well as table definition together at once\n",
    "    mapper(product_table,table_definition.table_define,non_primary=True)"
   ]
  },
  {
   "cell_type": "code",
   "execution_count": 89,
   "metadata": {},
   "outputs": [],
   "source": [
    "#This function will create a separate table for each csv file, if you have multiple csv files\n",
    "#Name of table will be extracted from file name. File name contains product name. \n",
    "#Each table will be identified by product name\n",
    "# It will read each excel file in the folder and insert bom into table\n",
    "def create_table(file_name):\n",
    "    \n",
    "    #Read file into dataframe\n",
    "    csv_data=pd.read_csv(file_name)\n",
    "    \n",
    "    #Convert dataframe to list and store in same variable\n",
    "    csv_data=csv_data.values.tolist()\n",
    "            \n",
    "    #Use table_definition function to define table structure\n",
    "    table_definition(\"kinase\")\n",
    "        \n",
    "    #Loop through list of lists, each list in create_bom_table.xls_data is a row\n",
    "    for row in csv_data:\n",
    "            \n",
    "        #Each element in the list is an attribute for the table class\n",
    "        #Iterating through rows and inserting into table\n",
    "        ins=table_definition.table_define.insert().values(\n",
    "        Gene=row[0],Group=row[2],Family=row[3],Subfamily=row[4],\n",
    "        Alias=row[5],Uniprot_ID=row[6],Uniprot_Code=row[7],Protein_Name=row[8],Gene_Name=row[9],\n",
    "        Cellular_Location=row[10])\n",
    "        conn=engine.connect()\n",
    "        conn.execute(ins)\n",
    "      "
   ]
  },
  {
   "cell_type": "code",
   "execution_count": 90,
   "metadata": {},
   "outputs": [],
   "source": [
    "#Calling function, argument is path of folder where all CSV files are stored\n",
    "create_table(\"Kinase-try.csv\")"
   ]
  },
  {
   "cell_type": "code",
   "execution_count": null,
   "metadata": {},
   "outputs": [],
   "source": []
  }
 ],
 "metadata": {
  "kernelspec": {
   "display_name": "Python 3",
   "language": "python",
   "name": "python3"
  },
  "language_info": {
   "codemirror_mode": {
    "name": "ipython",
    "version": 3
   },
   "file_extension": ".py",
   "mimetype": "text/x-python",
   "name": "python",
   "nbconvert_exporter": "python",
   "pygments_lexer": "ipython3",
   "version": "3.7.4"
  }
 },
 "nbformat": 4,
 "nbformat_minor": 2
}
